{
 "cells": [
  {
   "cell_type": "code",
   "execution_count": 1,
   "metadata": {},
   "outputs": [],
   "source": [
    "import matplotlib.pyplot as plt\n",
    "import numpy as np"
   ]
  },
  {
   "cell_type": "code",
   "execution_count": 5,
   "metadata": {},
   "outputs": [
    {
     "name": "stdout",
     "output_type": "stream",
     "text": [
      "[ 0.75  0.62  0.71  0.74  0.74  0.77  0.74  0.68  0.67  0.63  2.11  2.16\n",
      "  2.13  2.06  2.12  2.03  2.14  2.05  2.11  2.15 13.   12.9  12.98 12.96\n",
      " 13.04 12.98 12.94 12.99 13.01 12.92 13.01 21.66 21.68 21.65 21.62 21.58\n",
      " 21.62 21.55 21.68 21.67 21.55 21.42 30.05 29.99 29.96 30.01 30.09 29.98\n",
      " 30.02 30.01 29.97 30.   30.08 37.41 37.4  37.47 37.49 37.55 37.33 37.44\n",
      " 37.39 37.43 37.52 37.41 47.6  47.47 47.54 47.46 47.54 47.57 47.4  47.41\n",
      " 47.5  47.42 47.36 47.46]\n"
     ]
    },
    {
     "data": {
      "text/plain": [
       "Text(0, 0.5, 'Sensor')"
      ]
     },
     "execution_count": 5,
     "metadata": {},
     "output_type": "execute_result"
    },
    {
     "data": {
      "image/png": "[encoded data removed]",
      "text/plain": [
       "<Figure size 432x288 with 1 Axes>"
      ]
     },
     "metadata": {
      "needs_background": "light"
     },
     "output_type": "display_data"
    }
   ],
   "source": [
    "with open(\"angle_comparison2.txt\") as f:\n",
    "    lines = [line.rstrip().split(\"\\t\") for line in f]\n",
    "arr = np.asarray(lines, dtype=np.float32)\n",
    "inclinometer, sensor = (arr.T[0], arr.T[1])\n",
    "\n",
    "print(sensor)\n",
    "\n",
    "plt.scatter(inclinometer, sensor)\n",
    "plt.xlabel(\"Inclinometer\")\n",
    "plt.ylabel(\"Sensor\")"
   ]
  },
  {
   "cell_type": "code",
   "execution_count": 6,
   "metadata": {},
   "outputs": [
    {
     "name": "stdout",
     "output_type": "stream",
     "text": [
      "0.8592129904273671\n",
      "-0.8329517362000434\n"
     ]
    },
    {
     "data": {
      "image/png": "[encoded data removed]",
      "text/plain": [
       "<Figure size 432x288 with 1 Axes>"
      ]
     },
     "metadata": {
      "needs_background": "light"
     },
     "output_type": "display_data"
    }
   ],
   "source": [
    "from scipy.optimize import curve_fit\n",
    "\n",
    "\n",
    "def fit_func(x, a, b):\n",
    "    return a*x + b\n",
    "\n",
    "params = curve_fit(fit_func, inclinometer, sensor)\n",
    "\n",
    "[a, b] = params[0]\n",
    "\n",
    "x = np.linspace(0, 90, 900)\n",
    "\n",
    "f = a*x + b\n",
    "\n",
    "plt.plot(f, x)\n",
    "\n",
    "print(a)\n",
    "print(b)"
   ]
  },
  {
   "cell_type": "code",
   "execution_count": null,
   "metadata": {},
   "outputs": [],
   "source": []
  }
 ],
 "metadata": {
  "kernelspec": {
   "display_name": "Python 3",
   "language": "python",
   "name": "python3"
  },
  "language_info": {
   "codemirror_mode": {
    "name": "ipython",
    "version": 3
   },
   "file_extension": ".py",
   "mimetype": "text/x-python",
   "name": "python",
   "nbconvert_exporter": "python",
   "pygments_lexer": "ipython3",
   "version": "3.8.5"
  }
 },
 "nbformat": 4,
 "nbformat_minor": 2
}
